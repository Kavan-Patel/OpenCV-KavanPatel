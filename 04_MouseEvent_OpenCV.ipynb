{
 "cells": [
  {
   "cell_type": "markdown",
   "metadata": {},
   "source": [
    "# Imports"
   ]
  },
  {
   "cell_type": "code",
   "execution_count": 1,
   "metadata": {},
   "outputs": [],
   "source": [
    "import cv2 as cv\n",
    "import numpy as np\n",
    "from matplotlib import pyplot as plt"
   ]
  },
  {
   "cell_type": "code",
   "execution_count": 2,
   "metadata": {},
   "outputs": [],
   "source": [
    "# events= [i for i in dir(cv) if 'EVENT' in i]\n",
    "# print(events)"
   ]
  },
  {
   "cell_type": "code",
   "execution_count": 3,
   "metadata": {},
   "outputs": [],
   "source": [
    "def click_event(event, x, y, flags, param):\n",
    "    if event==cv.EVENT_LBUTTONDOWN:\n",
    "        font=cv.FONT_HERSHEY_COMPLEX\n",
    "        strXY= str(x)+', '+str(y)\n",
    "        cv.putText(img, strXY, (x,y), font, 0.5, (255,0,255), 1)\n",
    "        cv.imshow('image',img)\n",
    "    if event==cv.EVENT_RBUTTONDOWN:\n",
    "        blue=img[y, x, 0]\n",
    "        green=img[y,x,1]\n",
    "        red= img[y,x,2]\n",
    "        font=cv.FONT_HERSHEY_COMPLEX\n",
    "        bgr= f'{blue},{green},{red}'\n",
    "        cv.putText(img, bgr, (x,y), font, 0.5, (0,255,255), 1)\n",
    "        cv.imshow('image',img)"
   ]
  },
  {
   "cell_type": "code",
   "execution_count": null,
   "metadata": {},
   "outputs": [
    {
     "name": "stdout",
     "output_type": "stream",
     "text": [
      "199\n",
      "95\n",
      "100\n",
      "92\n",
      "67\n",
      "23\n",
      "165\n",
      "163\n",
      "116\n",
      "87\n",
      "60\n",
      "16\n"
     ]
    }
   ],
   "source": [
    "# img= np.zeros([512,512,3], np.uint8)\n",
    "img=cv.imread('lena.jpg')\n",
    "cv.imshow('image',img)\n",
    "cv.setMouseCallback('image', click_event)\n",
    "cv.waitKey(0)\n",
    "cv.destroyAllWindows()"
   ]
  },
  {
   "cell_type": "code",
   "execution_count": null,
   "metadata": {},
   "outputs": [],
   "source": []
  },
  {
   "cell_type": "code",
   "execution_count": null,
   "metadata": {},
   "outputs": [],
   "source": []
  }
 ],
 "metadata": {
  "kernelspec": {
   "display_name": "Python 3",
   "language": "python",
   "name": "python3"
  },
  "language_info": {
   "codemirror_mode": {
    "name": "ipython",
    "version": 3
   },
   "file_extension": ".py",
   "mimetype": "text/x-python",
   "name": "python",
   "nbconvert_exporter": "python",
   "pygments_lexer": "ipython3",
   "version": "3.7.4"
  }
 },
 "nbformat": 4,
 "nbformat_minor": 2
}
