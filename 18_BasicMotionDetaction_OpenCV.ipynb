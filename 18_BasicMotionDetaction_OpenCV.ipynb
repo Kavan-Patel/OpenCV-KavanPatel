{
 "cells": [
  {
   "cell_type": "code",
   "execution_count": 1,
   "metadata": {},
   "outputs": [],
   "source": [
    "import cv2 as cv\n",
    "import numpy as np"
   ]
  },
  {
   "cell_type": "code",
   "execution_count": 17,
   "metadata": {},
   "outputs": [
    {
     "data": {
      "text/plain": [
       "-1"
      ]
     },
     "execution_count": 17,
     "metadata": {},
     "output_type": "execute_result"
    }
   ],
   "source": [
    "cap=cv.VideoCapture('vtest.avi')\n",
    "\n",
    "_,frame1=cap.read()\n",
    "_,frame2=cap.read()\n",
    "\n",
    "while cap.isOpened():\n",
    "    diff= cv.absdiff(frame1,frame2)\n",
    "    gray= cv.cvtColor(diff,cv.COLOR_BGR2GRAY)\n",
    "    blur= cv.GaussianBlur(gray,(5,5),0)\n",
    "    _,thres= cv.threshold(blur, 20, 255,cv.THRESH_BINARY)\n",
    "    dilated= cv.dilate(thres,None, iterations=3)\n",
    "    \n",
    "    contours,_= cv.findContours(dilated,cv.RETR_TREE,cv.CHAIN_APPROX_SIMPLE )\n",
    "    \n",
    "    for contour in contours:\n",
    "        (x,y,w,h)=cv.boundingRect(contour)\n",
    "        \n",
    "        if cv.contourArea(contour)>1200:\n",
    "            cv.rectangle(frame1,(x,y),(x+w,y+h),(0,255,0),2)\n",
    "            cv.putText(frame1,\"Status: Movement\",(10,20),cv.FONT_HERSHEY_SIMPLEX,1,(0,0,255),3)\n",
    "        else:\n",
    "            continue\n",
    "#     cv.drawContours(frame1,contours,-1,(0,255,0),3)\n",
    "    cv.imshow('video',frame1)\n",
    "    frame1=frame2\n",
    "    \n",
    "    _,frame2= cap.read()\n",
    "    \n",
    "    if cv.waitKey(40)==27:\n",
    "        break\n",
    "cap.release()\n",
    "cv.waitKey(0)\n",
    "cv.destroyAllWindows()\n",
    "cv.waitKey(1)"
   ]
  },
  {
   "cell_type": "code",
   "execution_count": null,
   "metadata": {},
   "outputs": [],
   "source": []
  },
  {
   "cell_type": "code",
   "execution_count": null,
   "metadata": {},
   "outputs": [],
   "source": []
  }
 ],
 "metadata": {
  "kernelspec": {
   "display_name": "Python 3",
   "language": "python",
   "name": "python3"
  },
  "language_info": {
   "codemirror_mode": {
    "name": "ipython",
    "version": 3
   },
   "file_extension": ".py",
   "mimetype": "text/x-python",
   "name": "python",
   "nbconvert_exporter": "python",
   "pygments_lexer": "ipython3",
   "version": "3.7.4"
  }
 },
 "nbformat": 4,
 "nbformat_minor": 2
}
