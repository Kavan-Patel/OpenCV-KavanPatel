{
 "cells": [
  {
   "cell_type": "code",
   "execution_count": 25,
   "metadata": {},
   "outputs": [],
   "source": [
    "import numpy as np\n",
    "import cv2 as cv"
   ]
  },
  {
   "cell_type": "code",
   "execution_count": 26,
   "metadata": {},
   "outputs": [
    {
     "data": {
      "text/plain": [
       "-1"
      ]
     },
     "execution_count": 26,
     "metadata": {},
     "output_type": "execute_result"
    }
   ],
   "source": [
    "def nothing(x):\n",
    "    pass\n",
    "\n",
    "cap= cv.VideoCapture(0)\n",
    "cap.set(3,400)\n",
    "cap.set(4,400)\n",
    "cv.namedWindow(\"Track\")\n",
    "cv.createTrackbar(\"LH\",\"Track\", 0, 255, nothing)\n",
    "cv.createTrackbar(\"LS\",\"Track\", 0, 255, nothing)\n",
    "cv.createTrackbar(\"LV\",\"Track\", 0, 255, nothing)\n",
    "\n",
    "cv.createTrackbar(\"UH\",\"Track\", 255, 255, nothing)\n",
    "cv.createTrackbar(\"US\",\"Track\", 255, 255, nothing)\n",
    "cv.createTrackbar(\"UV\",\"Track\", 255, 255, nothing)\n",
    "\n",
    "while(1):\n",
    "#     frame=cv.imread('smarties.png')\n",
    "    _, frame= cap.read()\n",
    "    \n",
    "    hsv=cv.cvtColor(frame, cv.COLOR_BGR2HSV)\n",
    "    \n",
    "    lh= cv.getTrackbarPos(\"LH\",\"Track\")\n",
    "    ls= cv.getTrackbarPos(\"LS\",\"Track\")\n",
    "    lv= cv.getTrackbarPos(\"LV\",\"Track\")\n",
    "    \n",
    "    uh= cv.getTrackbarPos(\"UH\",\"Track\")\n",
    "    us= cv.getTrackbarPos(\"US\",\"Track\")\n",
    "    uv= cv.getTrackbarPos(\"UV\",\"Track\")\n",
    "\n",
    "    l_b= np.array([lh,ls,lv])\n",
    "    u_b= np.array([uh,us,uv])\n",
    "\n",
    "    mask=cv.inRange(hsv, l_b, u_b)\n",
    "    \n",
    "    res= cv.bitwise_and(frame,frame,mask=mask)\n",
    "    \n",
    "    cv.imshow('image',frame)\n",
    "    cv.imshow('res',res)\n",
    "    cv.imshow('mask',mask)\n",
    "    \n",
    "    k= cv.waitKey(1) & 0xFF\n",
    "    if k==ord('q'):\n",
    "        break\n",
    "    \n",
    "# cv.imshow('image',res)\n",
    "\n",
    "cv.waitKey(0)\n",
    "cap.release()\n",
    "cv.destroyAllWindows()\n",
    "cv.waitKey(1)"
   ]
  },
  {
   "cell_type": "code",
   "execution_count": null,
   "metadata": {},
   "outputs": [],
   "source": []
  },
  {
   "cell_type": "code",
   "execution_count": null,
   "metadata": {},
   "outputs": [],
   "source": []
  }
 ],
 "metadata": {
  "kernelspec": {
   "display_name": "Python 3",
   "language": "python",
   "name": "python3"
  },
  "language_info": {
   "codemirror_mode": {
    "name": "ipython",
    "version": 3
   },
   "file_extension": ".py",
   "mimetype": "text/x-python",
   "name": "python",
   "nbconvert_exporter": "python",
   "pygments_lexer": "ipython3",
   "version": "3.7.4"
  }
 },
 "nbformat": 4,
 "nbformat_minor": 2
}
