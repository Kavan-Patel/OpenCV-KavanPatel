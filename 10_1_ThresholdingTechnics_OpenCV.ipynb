{
 "cells": [
  {
   "cell_type": "code",
   "execution_count": 10,
   "metadata": {},
   "outputs": [],
   "source": [
    "import cv2 as cv\n",
    "import numpy as np"
   ]
  },
  {
   "cell_type": "code",
   "execution_count": null,
   "metadata": {},
   "outputs": [],
   "source": [
    "img=cv.imread('gradient.png')\n",
    "\n",
    "_, th1=cv.threshold(img,127,255,cv.THRESH_BINARY)\n",
    "_, th2=cv.threshold(img,127,255,cv.THRESH_BINARY_INV)\n",
    "_, th3=cv.threshold(img,127,255,cv.THRESH_TRUNC)\n",
    "_, th4=cv.threshold(img,127,255,cv.THRESH_TOZERO)\n",
    "\n",
    "cv.imshow('first',th1)\n",
    "cv.imshow('second',th2)\n",
    "cv.imshow(\"image\",img)\n",
    "cv.imshow(\"third\",th3)\n",
    "cv.imshow(\"fourth\",th4)\n",
    "\n",
    "cv.waitKey(0)\n",
    "cv.destroyAllWindows()\n",
    "cv.waitKey(1)"
   ]
  },
  {
   "cell_type": "code",
   "execution_count": null,
   "metadata": {},
   "outputs": [],
   "source": []
  }
 ],
 "metadata": {
  "kernelspec": {
   "display_name": "Python 3",
   "language": "python",
   "name": "python3"
  },
  "language_info": {
   "codemirror_mode": {
    "name": "ipython",
    "version": 3
   },
   "file_extension": ".py",
   "mimetype": "text/x-python",
   "name": "python",
   "nbconvert_exporter": "python",
   "pygments_lexer": "ipython3",
   "version": "3.7.4"
  }
 },
 "nbformat": 4,
 "nbformat_minor": 2
}
