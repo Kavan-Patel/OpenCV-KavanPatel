{
 "cells": [
  {
   "cell_type": "markdown",
   "metadata": {},
   "source": [
    "# contours\n",
    "##### Contours are the curves joining all the continuous point along with boundry which have same colors or intensity "
   ]
  },
  {
   "cell_type": "code",
   "execution_count": 5,
   "metadata": {},
   "outputs": [],
   "source": [
    "import numpy as np\n",
    "import cv2 as cv"
   ]
  },
  {
   "cell_type": "code",
   "execution_count": 12,
   "metadata": {},
   "outputs": [
    {
     "data": {
      "text/plain": [
       "-1"
      ]
     },
     "execution_count": 12,
     "metadata": {},
     "output_type": "execute_result"
    }
   ],
   "source": [
    "# img= cv.imread('opencv-logo.png')\n",
    "img= cv.imread('lena.jpg')\n",
    "imgray= cv.cvtColor(img,cv.COLOR_BGR2GRAY)\n",
    "\n",
    "_,thres= cv.threshold(imgray,160,255,0)\n",
    "contours, hirarchy= cv.findContours(thres,cv.RETR_TREE,cv.CHAIN_APPROX_NONE)\n",
    "cv.drawContours(img,contours,-1, (255,255,0), 3)\n",
    "\n",
    "cv.imshow(\"originalLogo\",img)\n",
    "cv.imshow(\"GrayLogo\",thres)\n",
    "\n",
    "cv.waitKey(0)\n",
    "cv.destroyAllWindows()\n",
    "cv.waitKey(1)"
   ]
  },
  {
   "cell_type": "code",
   "execution_count": null,
   "metadata": {},
   "outputs": [],
   "source": []
  }
 ],
 "metadata": {
  "kernelspec": {
   "display_name": "Python 3",
   "language": "python",
   "name": "python3"
  },
  "language_info": {
   "codemirror_mode": {
    "name": "ipython",
    "version": 3
   },
   "file_extension": ".py",
   "mimetype": "text/x-python",
   "name": "python",
   "nbconvert_exporter": "python",
   "pygments_lexer": "ipython3",
   "version": "3.7.4"
  }
 },
 "nbformat": 4,
 "nbformat_minor": 2
}
