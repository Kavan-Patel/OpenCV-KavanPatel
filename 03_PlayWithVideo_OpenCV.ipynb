{
 "cells": [
  {
   "cell_type": "markdown",
   "metadata": {},
   "source": [
    "# Learned methods\n",
    "1. VideoCapture(0)  0 for default camera 1 for 2nd camera 2for 3rd camera\n",
    "2. ord('q') detact the q key of the keyboard\n",
    "3. cv.VideoWriter_fourcc.   encoding of the video #Kindof\n",
    "4. cv.VideoWriter. write video (output filename, fourcc, fps, size(x,y)).write(frame)\n",
    "5. cv.CAP_PROP_FRAME_HEIGHT get the height of the frame\n",
    "6. cv.CAP_PROP_FRAME_WIDTH get the width of the frame\n",
    "7. cv.cvtColot(frame,cv.COLOR_BGR2GRAY) change the color of the video and feed into imshow\n",
    "8. cv.imshow(name of the frame, color)"
   ]
  },
  {
   "cell_type": "markdown",
   "metadata": {},
   "source": [
    "# Imports"
   ]
  },
  {
   "cell_type": "code",
   "execution_count": 1,
   "metadata": {},
   "outputs": [],
   "source": [
    "import cv2 as cv\n",
    "from matplotlib import pyplot as plt\n",
    "import datetime as dt"
   ]
  },
  {
   "cell_type": "markdown",
   "metadata": {},
   "source": [
    "# Variables"
   ]
  },
  {
   "cell_type": "code",
   "execution_count": 2,
   "metadata": {},
   "outputs": [],
   "source": [
    "vid= cv.VideoCapture(0)\n",
    "fourcc= cv.VideoWriter_fourcc(*'XVID')\n",
    "out= cv.VideoWriter('output.avi',fourcc, 20.00, (640,480))\n",
    "#print(vid.get(cv.CAP_PROP_FRAME_HEIGHT)) #4\n",
    "# print(vid.get(cv.CAP_PROP_FRAME_WIDTH)) #3\n",
    "# vid.set(3,700)\n",
    "# vid.set(4,1080)\n",
    "# print(vid.get(3))\n",
    "# print(vid.get(4))"
   ]
  },
  {
   "cell_type": "markdown",
   "metadata": {},
   "source": [
    "# Processing"
   ]
  },
  {
   "cell_type": "code",
   "execution_count": 3,
   "metadata": {},
   "outputs": [
    {
     "ename": "KeyboardInterrupt",
     "evalue": "",
     "output_type": "error",
     "traceback": [
      "\u001b[0;31m---------------------------------------------------------------------------\u001b[0m",
      "\u001b[0;31mKeyboardInterrupt\u001b[0m                         Traceback (most recent call last)",
      "\u001b[0;32m<ipython-input-3-d29c7f3cc75e>\u001b[0m in \u001b[0;36m<module>\u001b[0;34m\u001b[0m\n\u001b[1;32m      2\u001b[0m \u001b[0;32mwhile\u001b[0m\u001b[0;34m(\u001b[0m\u001b[0mvid\u001b[0m\u001b[0;34m.\u001b[0m\u001b[0misOpened\u001b[0m\u001b[0;34m(\u001b[0m\u001b[0;34m)\u001b[0m\u001b[0;34m)\u001b[0m\u001b[0;34m:\u001b[0m\u001b[0;34m\u001b[0m\u001b[0;34m\u001b[0m\u001b[0m\n\u001b[1;32m      3\u001b[0m \u001b[0;34m\u001b[0m\u001b[0m\n\u001b[0;32m----> 4\u001b[0;31m     \u001b[0mret\u001b[0m\u001b[0;34m,\u001b[0m \u001b[0mframe\u001b[0m\u001b[0;34m=\u001b[0m\u001b[0mvid\u001b[0m\u001b[0;34m.\u001b[0m\u001b[0mread\u001b[0m\u001b[0;34m(\u001b[0m\u001b[0;34m)\u001b[0m\u001b[0;34m\u001b[0m\u001b[0;34m\u001b[0m\u001b[0m\n\u001b[0m\u001b[1;32m      5\u001b[0m     \u001b[0;32mif\u001b[0m \u001b[0mret\u001b[0m\u001b[0;34m==\u001b[0m\u001b[0;32mTrue\u001b[0m\u001b[0;34m:\u001b[0m\u001b[0;34m\u001b[0m\u001b[0;34m\u001b[0m\u001b[0m\n\u001b[1;32m      6\u001b[0m         \u001b[0mdtime\u001b[0m\u001b[0;34m=\u001b[0m\u001b[0mdt\u001b[0m\u001b[0;34m.\u001b[0m\u001b[0mdatetime\u001b[0m\u001b[0;34m.\u001b[0m\u001b[0mnow\u001b[0m\u001b[0;34m(\u001b[0m\u001b[0;34m)\u001b[0m\u001b[0;34m\u001b[0m\u001b[0;34m\u001b[0m\u001b[0m\n",
      "\u001b[0;31mKeyboardInterrupt\u001b[0m: "
     ]
    }
   ],
   "source": [
    "cv.startWindowThread()\n",
    "while(vid.isOpened()):\n",
    "    \n",
    "    ret, frame=vid.read()\n",
    "    if ret==True:\n",
    "        dtime=dt.datetime.now()\n",
    "#         text=f'Width:{vid.get(3)}, Height:{vid.get(4)}'\n",
    "        fontface= cv.FONT_HERSHEY_COMPLEX\n",
    "        cv.putText(frame, str(dtime), (20,40), fontface, 1,(255,255,0))\n",
    "        out.write(frame)\n",
    "        \n",
    "#         gray= cv.cvtColor(frame,cv.COLOR_BGR2GRAY)\n",
    "        cv.imshow('Video',frame)\n",
    "        if cv.waitKey(1) & 0xFF == ord('q'):\n",
    "            break\n",
    "    else:\n",
    "        break\n",
    "vid.release()\n",
    "out.release()\n",
    "cv.waitKey(1)\n",
    "cv.destroyAllWindows('Video')\n",
    "cv.waitKey(1)"
   ]
  },
  {
   "cell_type": "code",
   "execution_count": null,
   "metadata": {},
   "outputs": [],
   "source": []
  },
  {
   "cell_type": "code",
   "execution_count": null,
   "metadata": {},
   "outputs": [],
   "source": []
  }
 ],
 "metadata": {
  "kernelspec": {
   "display_name": "Python 3",
   "language": "python",
   "name": "python3"
  },
  "language_info": {
   "codemirror_mode": {
    "name": "ipython",
    "version": 3
   },
   "file_extension": ".py",
   "mimetype": "text/x-python",
   "name": "python",
   "nbconvert_exporter": "python",
   "pygments_lexer": "ipython3",
   "version": "3.7.4"
  }
 },
 "nbformat": 4,
 "nbformat_minor": 2
}
