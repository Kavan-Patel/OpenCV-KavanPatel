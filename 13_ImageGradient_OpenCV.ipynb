{
 "cells": [
  {
   "cell_type": "markdown",
   "metadata": {},
   "source": [
    "### Image Gradient is directional change in color intensity"
   ]
  },
  {
   "cell_type": "code",
   "execution_count": 4,
   "metadata": {},
   "outputs": [],
   "source": [
    "import cv2 as cv\n",
    "import numpy as np\n",
    "from matplotlib import pyplot as plt"
   ]
  },
  {
   "cell_type": "code",
   "execution_count": 5,
   "metadata": {},
   "outputs": [
    {
     "ename": "NameError",
     "evalue": "name 'out' is not defined",
     "output_type": "error",
     "traceback": [
      "\u001b[0;31m---------------------------------------------------------------------------\u001b[0m",
      "\u001b[0;31mNameError\u001b[0m                                 Traceback (most recent call last)",
      "\u001b[0;32m<ipython-input-5-160ccf220241>\u001b[0m in \u001b[0;36m<module>\u001b[0;34m\u001b[0m\n\u001b[1;32m     26\u001b[0m \u001b[0;34m\u001b[0m\u001b[0m\n\u001b[1;32m     27\u001b[0m \u001b[0mcap\u001b[0m\u001b[0;34m.\u001b[0m\u001b[0mrelease\u001b[0m\u001b[0;34m(\u001b[0m\u001b[0;34m)\u001b[0m\u001b[0;34m\u001b[0m\u001b[0;34m\u001b[0m\u001b[0m\n\u001b[0;32m---> 28\u001b[0;31m \u001b[0mout\u001b[0m\u001b[0;34m.\u001b[0m\u001b[0mrelease\u001b[0m\u001b[0;34m(\u001b[0m\u001b[0;34m)\u001b[0m\u001b[0;34m\u001b[0m\u001b[0;34m\u001b[0m\u001b[0m\n\u001b[0m\u001b[1;32m     29\u001b[0m \u001b[0mcv\u001b[0m\u001b[0;34m.\u001b[0m\u001b[0mwaitKey\u001b[0m\u001b[0;34m(\u001b[0m\u001b[0;36m0\u001b[0m\u001b[0;34m)\u001b[0m\u001b[0;34m\u001b[0m\u001b[0;34m\u001b[0m\u001b[0m\n\u001b[1;32m     30\u001b[0m \u001b[0mcv\u001b[0m\u001b[0;34m.\u001b[0m\u001b[0mdestroyAllWindows\u001b[0m\u001b[0;34m(\u001b[0m\u001b[0;34m)\u001b[0m\u001b[0;34m\u001b[0m\u001b[0;34m\u001b[0m\u001b[0m\n",
      "\u001b[0;31mNameError\u001b[0m: name 'out' is not defined"
     ]
    }
   ],
   "source": [
    "# cap= cv.VideoCapture(0)\n",
    "img=cv.imread('sudoku.png',0)\n",
    "# img=cv.cvtColor(img, cv.COLOR_BGR2RGB)\n",
    "\n",
    "\n",
    "# while True:\n",
    "#     _,img=cap.read()\n",
    "    \n",
    "lap=cv.Laplacian(img,cv.CV_64F,ksize=1)\n",
    "lap=np.uint8(np.absolute(lap))\n",
    "\n",
    "sobelX= cv.Sobel(img,cv.CV_64F,1,0)\n",
    "sobelY= cv.Sobel(img,cv.CV_64F,0,1)\n",
    "\n",
    "sobelX= np.uint8(np.absolute(sobelX))\n",
    "sobelY= np.uint8(np.absolute(sobelY))\n",
    "sobleCombine= cv.bitwise_or(sobelX,sobelY)\n",
    "sobelLap= cv.bitwise_or(lap, sobleCombine)\n",
    "\n",
    "#     cv.imshow('video',sobelLap)\n",
    "#     if cv.waitKey(1) & 0xFF == ord('q'):\n",
    "#             break\n",
    "            \n",
    "images=[img,lap,sobelX,sobelY,sobleCombine,sobelLap]\n",
    "titles=['Logo',\"LAP\",\"SobleX\",\"SobleY\",\"SobleCombine\",\"sobelLap\"]\n",
    "\n",
    "# cap.release()\n",
    "# out.release()\n",
    "# cv.waitKey(0)\n",
    "# cv.destroyAllWindows()\n",
    "# cv.waitKey(1)\n",
    "plt.figure(figsize=(15,15))\n",
    "for i in range(6):\n",
    "    plt.subplot(2,3,i+1), plt.imshow(images[i],'gray')\n",
    "    plt.xticks([]), plt.yticks([])\n",
    "    plt.title(titles[i])\n",
    "\n",
    "plt.show()"
   ]
  },
  {
   "cell_type": "code",
   "execution_count": null,
   "metadata": {},
   "outputs": [],
   "source": []
  }
 ],
 "metadata": {
  "kernelspec": {
   "display_name": "Python 3",
   "language": "python",
   "name": "python3"
  },
  "language_info": {
   "codemirror_mode": {
    "name": "ipython",
    "version": 3
   },
   "file_extension": ".py",
   "mimetype": "text/x-python",
   "name": "python",
   "nbconvert_exporter": "python",
   "pygments_lexer": "ipython3",
   "version": "3.7.4"
  }
 },
 "nbformat": 4,
 "nbformat_minor": 2
}
