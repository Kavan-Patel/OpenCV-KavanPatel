{
 "cells": [
  {
   "cell_type": "code",
   "execution_count": 2,
   "metadata": {},
   "outputs": [],
   "source": [
    "import numpy as np\n",
    "import cv2 as cv"
   ]
  },
  {
   "cell_type": "code",
   "execution_count": 19,
   "metadata": {},
   "outputs": [
    {
     "data": {
      "text/plain": [
       "-1"
      ]
     },
     "execution_count": 19,
     "metadata": {},
     "output_type": "execute_result"
    }
   ],
   "source": [
    "img= cv.imread('messi5.jpg')\n",
    "img_grey= cv.cvtColor(img, cv.COLOR_BGR2GRAY)\n",
    "img_temp= cv.imread('messi_temp.jpg',0)\n",
    "\n",
    "w,h= img_temp.shape[::-1]\n",
    "\n",
    "# print(w)\n",
    "# print(h)\n",
    "res= cv.matchTemplate(img_grey,img_temp,cv.TM_CCOEFF_NORMED)\n",
    "\n",
    "# print(res)\n",
    "\n",
    "threshold=0.95\n",
    "loc= np.where(res>=threshold)\n",
    "# print(loc)\n",
    "\n",
    "for pt in zip(*loc[::-1]):\n",
    "    cv.rectangle(img, pt, (pt[0]+w , pt[1]+h),(0,255,0),3)\n",
    "\n",
    "cv.imshow('Image',img)\n",
    "\n",
    "cv.waitKey(0)\n",
    "cv.destroyAllWindows()\n",
    "cv.waitKey(1)"
   ]
  },
  {
   "cell_type": "code",
   "execution_count": null,
   "metadata": {},
   "outputs": [],
   "source": []
  }
 ],
 "metadata": {
  "kernelspec": {
   "display_name": "Python 3",
   "language": "python",
   "name": "python3"
  },
  "language_info": {
   "codemirror_mode": {
    "name": "ipython",
    "version": 3
   },
   "file_extension": ".py",
   "mimetype": "text/x-python",
   "name": "python",
   "nbconvert_exporter": "python",
   "pygments_lexer": "ipython3",
   "version": "3.7.4"
  }
 },
 "nbformat": 4,
 "nbformat_minor": 2
}
