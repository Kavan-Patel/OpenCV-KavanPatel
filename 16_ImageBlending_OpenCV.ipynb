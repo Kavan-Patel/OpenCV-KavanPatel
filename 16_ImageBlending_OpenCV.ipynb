{
 "cells": [
  {
   "cell_type": "markdown",
   "metadata": {},
   "source": [
    "# ImagePyramid for blending\n",
    "1. Load two images\n",
    "2. find gaussian pyramid for two images\n",
    "3. from gaussian pyramid find laplasian pyramid\n",
    "4. joint both the hald in all level in laplasian pyramid \n",
    "5. with joint pyramid reconstruct original image"
   ]
  },
  {
   "cell_type": "code",
   "execution_count": 8,
   "metadata": {},
   "outputs": [],
   "source": [
    "import cv2 as cv\n",
    "import numpy as np"
   ]
  },
  {
   "cell_type": "code",
   "execution_count": 12,
   "metadata": {},
   "outputs": [
    {
     "name": "stdout",
     "output_type": "stream",
     "text": [
      "6\n"
     ]
    },
    {
     "data": {
      "text/plain": [
       "-1"
      ]
     },
     "execution_count": 12,
     "metadata": {},
     "output_type": "execute_result"
    }
   ],
   "source": [
    "apple= cv.imread('apple.jpg')\n",
    "orange=cv.imread('orange.jpg')\n",
    "\n",
    "apple_orange= np.hstack((apple[:,:256], orange[:,256:]))\n",
    "\n",
    "\n",
    "# Gaussian pyramid for orange\n",
    "orange_copy=orange.copy()\n",
    "gpOrange=[orange_copy]\n",
    "\n",
    "for i in range(6):\n",
    "    orange_copy=cv.pyrDown(orange_copy)\n",
    "    gpOrange.append(orange_copy)\n",
    "\n",
    "# Gaussian pyramid for orange\n",
    "apple_copy=apple.copy()\n",
    "gpApple=[apple_copy]\n",
    "\n",
    "for i in range(6):\n",
    "    apple_copy=cv.pyrDown(apple_copy)\n",
    "    gpApple.append(apple_copy)\n",
    "\n",
    "\n",
    "# Laplacian for Orange\n",
    "lpOrange=[gpOrange[5]]\n",
    "\n",
    "for i in range(5,0,-1):\n",
    "    extendedGPL= cv.pyrUp(gpOrange[i])\n",
    "    laplacian=cv.subtract(gpOrange[i-1], extendedGPL)\n",
    "    lpOrange.append(laplacian)\n",
    "    \n",
    "# Laplacian for Apple\n",
    "lpApple=[gpApple[5]]\n",
    "\n",
    "for i in range(5,0,-1):\n",
    "    extendedGPL= cv.pyrUp(gpApple[i])\n",
    "    laplacian=cv.subtract(gpApple[i-1], extendedGPL)\n",
    "    lpApple.append(laplacian)\n",
    "\n",
    "# add left and right halves in each image in each level\n",
    "apple_orange_pyramid=[]\n",
    "n=0\n",
    "for applelp,orangelp in zip(lpApple,lpOrange):\n",
    "    n +=1\n",
    "    cols,rows,ch= applelp.shape\n",
    "    laplas= np.hstack((applelp[:,:int(cols/2)],orangelp[:,int(cols/2):]))\n",
    "    apple_orange_pyramid.append(laplas)\n",
    "print(n)\n",
    "# Construct Image\n",
    "aoReconstruct= apple_orange_pyramid[0]\n",
    "for i in range(1,6):\n",
    "    aoReconstruct= cv.pyrUp(aoReconstruct)\n",
    "    aoReconstruct= cv.add(apple_orange_pyramid[i],aoReconstruct)\n",
    "    \n",
    "\n",
    "cv.imshow('apple',apple)\n",
    "cv.imshow('orange',orange)\n",
    "cv.imshow('apple-orange',apple_orange)\n",
    "cv.imshow('apple-orange-reconstruct',aoReconstruct)\n",
    "\n",
    "cv.waitKey(0)\n",
    "cv.destroyAllWindows()\n",
    "cv.waitKey(1)"
   ]
  },
  {
   "cell_type": "code",
   "execution_count": null,
   "metadata": {},
   "outputs": [],
   "source": []
  }
 ],
 "metadata": {
  "kernelspec": {
   "display_name": "Python 3",
   "language": "python",
   "name": "python3"
  },
  "language_info": {
   "codemirror_mode": {
    "name": "ipython",
    "version": 3
   },
   "file_extension": ".py",
   "mimetype": "text/x-python",
   "name": "python",
   "nbconvert_exporter": "python",
   "pygments_lexer": "ipython3",
   "version": "3.7.4"
  }
 },
 "nbformat": 4,
 "nbformat_minor": 2
}
