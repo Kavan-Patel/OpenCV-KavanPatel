{
 "cells": [
  {
   "cell_type": "code",
   "execution_count": 1,
   "metadata": {},
   "outputs": [],
   "source": [
    "import cv2 as cv\n",
    "import numpy as np"
   ]
  },
  {
   "cell_type": "code",
   "execution_count": 3,
   "metadata": {},
   "outputs": [
    {
     "data": {
      "text/plain": [
       "-1"
      ]
     },
     "execution_count": 3,
     "metadata": {},
     "output_type": "execute_result"
    }
   ],
   "source": [
    "def nothing(x):\n",
    "    print(' ')\n",
    "img= np.zeros([512,512,3],np.uint8)\n",
    "\n",
    "cv.namedWindow('image')\n",
    "\n",
    "switch= 'On:1\\n Off:0'\n",
    "cv.createTrackbar('R','image',0,255,nothing)\n",
    "cv.createTrackbar('G','image',0,255,nothing)\n",
    "cv.createTrackbar('B','image',0,255,nothing)\n",
    "cv.createTrackbar(switch,'image',0,1,nothing)\n",
    "\n",
    "while(1):\n",
    "    cv.imshow('image',img)\n",
    "    k= cv.waitKey(0) & 0xFF\n",
    "    if k==ord('q'):\n",
    "        break\n",
    "    r= cv.getTrackbarPos('R','image')\n",
    "    g= cv.getTrackbarPos('G','image')\n",
    "    b= cv.getTrackbarPos('B','image')\n",
    "    sw= cv.getTrackbarPos(switch,'image')\n",
    "    \n",
    "    if sw==0:\n",
    "        img[:]=0\n",
    "    else:\n",
    "        img[:]=[r,g,b]\n",
    "cv.imshow('image',img)\n",
    "cv.waitKey(0)\n",
    "cv.destroyAllWindows()\n",
    "cv.waitKey(1)"
   ]
  },
  {
   "cell_type": "code",
   "execution_count": null,
   "metadata": {},
   "outputs": [],
   "source": []
  }
 ],
 "metadata": {
  "kernelspec": {
   "display_name": "Python 3",
   "language": "python",
   "name": "python3"
  },
  "language_info": {
   "codemirror_mode": {
    "name": "ipython",
    "version": 3
   },
   "file_extension": ".py",
   "mimetype": "text/x-python",
   "name": "python",
   "nbconvert_exporter": "python",
   "pygments_lexer": "ipython3",
   "version": "3.7.4"
  }
 },
 "nbformat": 4,
 "nbformat_minor": 2
}
