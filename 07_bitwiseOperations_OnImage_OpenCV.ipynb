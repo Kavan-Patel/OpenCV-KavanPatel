{
 "cells": [
  {
   "cell_type": "code",
   "execution_count": 7,
   "metadata": {},
   "outputs": [],
   "source": [
    "import cv2 as cv\n",
    "import numpy as np\n",
    "from matplotlib import pyplot as plt"
   ]
  },
  {
   "cell_type": "code",
   "execution_count": 8,
   "metadata": {},
   "outputs": [
    {
     "data": {
      "text/plain": [
       "-1"
      ]
     },
     "execution_count": 8,
     "metadata": {},
     "output_type": "execute_result"
    }
   ],
   "source": [
    "img= np.zeros([500,500,3], np.uint8)\n",
    "img2= np.zeros([500,500,3], np.uint8)\n",
    "\n",
    "cv.rectangle(img2,(200,0),(300,150), (255,255,255),-1)\n",
    "cv.rectangle(img,(250,0),(500,500), (255,255,255),-1)\n",
    "\n",
    "newImg=cv.bitwise_and(img2,img)\n",
    "\n",
    "# cv.imshow('1',img)\n",
    "# cv.imshow('2',img2)\n",
    "cv.imshow(\"bitwiase Image\",newImg)\n",
    "cv.waitKey(0) & 0xFF\n",
    "cv.destroyAllWindows()\n",
    "cv.waitKey(1)\n",
    "# plt.imshow(img)\n",
    "# plt.imshow(img2) "
   ]
  },
  {
   "cell_type": "code",
   "execution_count": null,
   "metadata": {},
   "outputs": [],
   "source": []
  }
 ],
 "metadata": {
  "kernelspec": {
   "display_name": "Python 3",
   "language": "python",
   "name": "python3"
  },
  "language_info": {
   "codemirror_mode": {
    "name": "ipython",
    "version": 3
   },
   "file_extension": ".py",
   "mimetype": "text/x-python",
   "name": "python",
   "nbconvert_exporter": "python",
   "pygments_lexer": "ipython3",
   "version": "3.7.4"
  }
 },
 "nbformat": 4,
 "nbformat_minor": 2
}
