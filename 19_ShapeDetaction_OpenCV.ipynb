{
 "cells": [
  {
   "cell_type": "code",
   "execution_count": 28,
   "metadata": {},
   "outputs": [],
   "source": [
    "import numpy as np\n",
    "import cv2 as cv"
   ]
  },
  {
   "cell_type": "code",
   "execution_count": 29,
   "metadata": {},
   "outputs": [
    {
     "data": {
      "text/plain": [
       "-1"
      ]
     },
     "execution_count": 29,
     "metadata": {},
     "output_type": "execute_result"
    }
   ],
   "source": [
    "img= cv.imread('shapes.jpg')\n",
    "imgray= cv.cvtColor(img, cv.COLOR_BGR2GRAY)\n",
    "_,thresh= cv.threshold(imgray, 240, 255,cv.THRESH_BINARY)\n",
    "contours,_= cv.findContours(thresh, cv.RETR_TREE, cv.CHAIN_APPROX_NONE)\n",
    "\n",
    "for contour in contours:\n",
    "    approx= cv.approxPolyDP(contour,0.01*cv.arcLength(contour,True),True)\n",
    "    cv.drawContours(img,[approx],0,(0,255,0),3)\n",
    "    x= approx.ravel()[0]\n",
    "    y= approx.ravel()[1] -15\n",
    "    \n",
    "    if len(approx) ==3:\n",
    "        cv.putText(img,\"Triangle\",(x,y),cv.FONT_HERSHEY_COMPLEX,0.5, (0,0,0))\n",
    "    elif len(approx) ==4:\n",
    "        x,y,w,h= cv.boundingRect(approx)\n",
    "        aspectratio= float(w)/h\n",
    "        if aspectratio>=0.95 and aspectratio<=1.05:\n",
    "            cv.putText(img,\"Square\",(x,y),cv.FONT_HERSHEY_COMPLEX,0.5, (0,0,0))\n",
    "        else:\n",
    "            cv.putText(img,\"Rectangle\",(x,y),cv.FONT_HERSHEY_COMPLEX,0.5, (0,0,0))\n",
    "    elif len(approx) ==5:\n",
    "        cv.putText(img,\"Pentagon\",(x,y),cv.FONT_HERSHEY_COMPLEX,0.5, (0,0,0))\n",
    "    elif len(approx) ==6:\n",
    "        cv.putText(img,\"Polygon\",(x,y),cv.FONT_HERSHEY_COMPLEX,0.5, (0,0,0))\n",
    "    else:\n",
    "        cv.putText(img,\"Circle\",(x,y),cv.FONT_HERSHEY_COMPLEX,0.5, (0,0,0))\n",
    "\n",
    "cv.imshow('image',img)\n",
    "cv.waitKey(0)\n",
    "cv.destroyAllWindows()\n",
    "cv.waitKey(1)"
   ]
  },
  {
   "cell_type": "code",
   "execution_count": null,
   "metadata": {},
   "outputs": [],
   "source": []
  }
 ],
 "metadata": {
  "kernelspec": {
   "display_name": "Python 3",
   "language": "python",
   "name": "python3"
  },
  "language_info": {
   "codemirror_mode": {
    "name": "ipython",
    "version": 3
   },
   "file_extension": ".py",
   "mimetype": "text/x-python",
   "name": "python",
   "nbconvert_exporter": "python",
   "pygments_lexer": "ipython3",
   "version": "3.7.4"
  }
 },
 "nbformat": 4,
 "nbformat_minor": 2
}
