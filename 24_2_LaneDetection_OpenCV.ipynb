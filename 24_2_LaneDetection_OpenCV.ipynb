{
 "cells": [
  {
   "cell_type": "code",
   "execution_count": 1,
   "metadata": {},
   "outputs": [],
   "source": [
    "import cv2 as cv\n",
    "import numpy as np\n",
    "from matplotlib import pyplot as plt"
   ]
  },
  {
   "cell_type": "code",
   "execution_count": 4,
   "metadata": {},
   "outputs": [
    {
     "data": {
      "text/plain": [
       "-1"
      ]
     },
     "execution_count": 4,
     "metadata": {},
     "output_type": "execute_result"
    }
   ],
   "source": [
    "# img= cv.imread('road.jpg')\n",
    "# img= cv.cvtColor(img, cv.COLOR_BGR2RGB)\n",
    "\n",
    "def region_of_interest(img,vertices):\n",
    "    mask=np.zeros_like(img)\n",
    "#     channel_count=img.shape[2]\n",
    "    match_mask_color=255\n",
    "    cv.fillPoly(mask,vertices,match_mask_color)\n",
    "    masked_image= cv.bitwise_and(img,mask)\n",
    "    return masked_image\n",
    "\n",
    "def draw_the_lines(img, lines):\n",
    "    img= np.copy(img)\n",
    "    blank_img= np.zeros((img.shape[0], img.shape[1], 3), dtype= np.uint8)\n",
    "    \n",
    "    for line in lines:\n",
    "        for x1,y1,x2,y2 in line:\n",
    "            cv.line(blank_img, (x1,y1),(x2,y2),(0,255,0),thickness=3)\n",
    "    \n",
    "    img=cv.addWeighted(img,0.8,blank_img,1,0.0)\n",
    "    \n",
    "    return img\n",
    "\n",
    "def process(img):\n",
    "\n",
    "    height=img.shape[0]\n",
    "    width=img.shape[1]\n",
    "\n",
    "    region_of_intersted_vertices=[\n",
    "        (0,height),\n",
    "        (width/2,height/2+50),\n",
    "        (width,height)\n",
    "    ]\n",
    "\n",
    "\n",
    "    # plt.imshow('image',gray_crop_img)\n",
    "    gray_crop_img= cv.cvtColor(img, cv.COLOR_RGB2GRAY)\n",
    "    canny_img= cv.Canny(gray_crop_img,100,120)\n",
    "\n",
    "    cropped_img= region_of_interest(canny_img, \n",
    "                            np.array([region_of_intersted_vertices], np.int32))\n",
    "\n",
    "    lines= cv.HoughLinesP(cropped_img,\n",
    "                          rho=1,\n",
    "                          theta=np.pi/60,\n",
    "                          threshold=50,\n",
    "                          lines=np.array([]),\n",
    "                          minLineLength=100,\n",
    "                          maxLineGap=25)\n",
    "\n",
    "    img_with_lines= draw_the_lines(img,lines)\n",
    "    return img_with_lines\n",
    "\n",
    "cap=cv.VideoCapture('test.mp4')\n",
    "while(cap.isOpened()):\n",
    "    _, frame=cap.read()\n",
    "    frame=process(frame)\n",
    "    cv.imshow('Video',frame)\n",
    "    if cv.waitKey(1) & 0xFF == ord('q'):\n",
    "        break\n",
    "\n",
    "cap.release()\n",
    "cv.waitKey(0)\n",
    "cv.destroyAllWindows()\n",
    "cv.waitKey(1)\n",
    "    \n",
    "    \n",
    "    \n",
    "# plt.imshow(img_with_lines)\n",
    "# cv.imshow('image',canny_img)\n",
    "# cv.waitKey(0)\n",
    "# cv.destroyAllWindows()\n",
    "# cv.waitKey(1)\n",
    "# plt.show()"
   ]
  },
  {
   "cell_type": "code",
   "execution_count": null,
   "metadata": {},
   "outputs": [],
   "source": []
  }
 ],
 "metadata": {
  "kernelspec": {
   "display_name": "Python 3",
   "language": "python",
   "name": "python3"
  },
  "language_info": {
   "codemirror_mode": {
    "name": "ipython",
    "version": 3
   },
   "file_extension": ".py",
   "mimetype": "text/x-python",
   "name": "python",
   "nbconvert_exporter": "python",
   "pygments_lexer": "ipython3",
   "version": "3.7.4"
  }
 },
 "nbformat": 4,
 "nbformat_minor": 2
}
