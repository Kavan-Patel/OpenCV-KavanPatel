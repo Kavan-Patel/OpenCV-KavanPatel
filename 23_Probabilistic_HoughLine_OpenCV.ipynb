{
 "cells": [
  {
   "cell_type": "code",
   "execution_count": 1,
   "metadata": {},
   "outputs": [],
   "source": [
    "import cv2 as cv\n",
    "import numpy as np"
   ]
  },
  {
   "cell_type": "code",
   "execution_count": 26,
   "metadata": {},
   "outputs": [
    {
     "data": {
      "text/plain": [
       "-1"
      ]
     },
     "execution_count": 26,
     "metadata": {},
     "output_type": "execute_result"
    }
   ],
   "source": [
    "img= cv.imread('road.jpg')\n",
    "gray= cv.cvtColor(img, cv.COLOR_BGR2GRAY)\n",
    "_,thresh=cv.threshold(gray,150,255,cv.THRESH_BINARY)\n",
    "edges= cv.Canny(gray,250,255,apertureSize=3)\n",
    "lines= cv.HoughLinesP(edges,1,np.pi/180,100,minLineLength=50,maxLineGap=10)\n",
    "\n",
    "for line in lines:\n",
    "    x1,y1,x2,y2=line[0]\n",
    "    cv.line(img, (x1,y1),(x2,y2),(0,255,0),2)\n",
    "cv.imshow(\"image\",img)\n",
    "\n",
    "cv.waitKey(0)\n",
    "cv.destroyAllWindows()\n",
    "cv.waitKey(1)"
   ]
  },
  {
   "cell_type": "code",
   "execution_count": null,
   "metadata": {},
   "outputs": [],
   "source": []
  }
 ],
 "metadata": {
  "kernelspec": {
   "display_name": "Python 3",
   "language": "python",
   "name": "python3"
  },
  "language_info": {
   "codemirror_mode": {
    "name": "ipython",
    "version": 3
   },
   "file_extension": ".py",
   "mimetype": "text/x-python",
   "name": "python",
   "nbconvert_exporter": "python",
   "pygments_lexer": "ipython3",
   "version": "3.7.4"
  }
 },
 "nbformat": 4,
 "nbformat_minor": 2
}
