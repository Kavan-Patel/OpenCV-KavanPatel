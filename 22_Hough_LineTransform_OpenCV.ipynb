{
 "cells": [
  {
   "cell_type": "code",
   "execution_count": 1,
   "metadata": {},
   "outputs": [],
   "source": [
    "import cv2 as cv\n",
    "import numpy as np"
   ]
  },
  {
   "cell_type": "code",
   "execution_count": 18,
   "metadata": {},
   "outputs": [
    {
     "data": {
      "text/plain": [
       "-1"
      ]
     },
     "execution_count": 18,
     "metadata": {},
     "output_type": "execute_result"
    }
   ],
   "source": [
    "img = cv.imread('sudoku.png')\n",
    "gray= cv.cvtColor(img, cv.COLOR_BGR2GRAY)\n",
    "edges= cv.Canny(gray,10,150,apertureSize=3)\n",
    "lines= cv.HoughLines(edges,1,np.pi/180,200)\n",
    "\n",
    "for line in lines:\n",
    "    rho, theta= line[0]\n",
    "    a= np.cos(theta)\n",
    "    b= np.sin(theta)\n",
    "    x0= a*rho\n",
    "    y0= b*rho\n",
    "    \n",
    "    # x1 stores the round of values of (r* cos(theta) -1000* sin(theta))\n",
    "    x1= int(x0 + 1000*(-b))\n",
    "    y1= int(y0 + 1000* a)\n",
    "    x2= int(x0 - 1000*(-b))\n",
    "    y2= int(y0 - 1000* a)\n",
    "\n",
    "    cv.line(img, (x1,y1),(x2,y2),(0,255,0),2)\n",
    "cv.imshow(\"image\",img)\n",
    "\n",
    "cv.waitKey(0)\n",
    "cv.destroyAllWindows()\n",
    "cv.waitKey(1)"
   ]
  },
  {
   "cell_type": "code",
   "execution_count": null,
   "metadata": {},
   "outputs": [],
   "source": []
  },
  {
   "cell_type": "code",
   "execution_count": null,
   "metadata": {},
   "outputs": [],
   "source": []
  }
 ],
 "metadata": {
  "kernelspec": {
   "display_name": "Python 3",
   "language": "python",
   "name": "python3"
  },
  "language_info": {
   "codemirror_mode": {
    "name": "ipython",
    "version": 3
   },
   "file_extension": ".py",
   "mimetype": "text/x-python",
   "name": "python",
   "nbconvert_exporter": "python",
   "pygments_lexer": "ipython3",
   "version": "3.7.4"
  }
 },
 "nbformat": 4,
 "nbformat_minor": 2
}
