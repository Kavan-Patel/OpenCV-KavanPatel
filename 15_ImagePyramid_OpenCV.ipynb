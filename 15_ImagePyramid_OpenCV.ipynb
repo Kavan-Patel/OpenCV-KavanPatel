{
 "cells": [
  {
   "cell_type": "markdown",
   "metadata": {},
   "source": [
    "# ImagePyramid\n",
    "--> image pyramid is a pyramid represontation, is a type of multiscale signal representation in which a signal or an image is subject to repeated smoothing and subsampling.\n",
    "--wikipedia"
   ]
  },
  {
   "cell_type": "markdown",
   "metadata": {},
   "source": [
    "# Laplasian Pyramid\n",
    "\n",
    "-->A level in lp is formed by the difference between that level in gaussian pyramid and expanded version of its upper level in gaussian pyramid"
   ]
  },
  {
   "cell_type": "code",
   "execution_count": 1,
   "metadata": {},
   "outputs": [],
   "source": [
    "import cv2 as cv\n",
    "import numpy as np"
   ]
  },
  {
   "cell_type": "code",
   "execution_count": 6,
   "metadata": {},
   "outputs": [
    {
     "data": {
      "text/plain": [
       "-1"
      ]
     },
     "execution_count": 6,
     "metadata": {},
     "output_type": "execute_result"
    }
   ],
   "source": [
    "img=cv.imread(\"lena.jpg\")\n",
    "\n",
    "layer=img.copy()\n",
    "gp=[layer]\n",
    "\n",
    "for i in range(6):\n",
    "    layer=cv.pyrDown(layer)\n",
    "    gp.append(layer)\n",
    "#     cv.imshow(str(i),layer)\n",
    "\n",
    "layer=gp[5]\n",
    "cv.imshow('upperlevel Gaussian pyramid',layer)\n",
    "lp=[layer]\n",
    "\n",
    "for i in range(5,0,-1):\n",
    "    gaussianExtended=cv.pyrUp(gp[i])\n",
    "    laplacian= cv.subtract(gp[i-1],gaussianExtended)\n",
    "    cv.imshow(str(i),laplacian)\n",
    "# cv.imshow('OriginalImage',img)\n",
    "cv.waitKey(0)\n",
    "cv.destroyAllWindows()\n",
    "cv.waitKey(1)"
   ]
  },
  {
   "cell_type": "code",
   "execution_count": null,
   "metadata": {},
   "outputs": [],
   "source": []
  }
 ],
 "metadata": {
  "kernelspec": {
   "display_name": "Python 3",
   "language": "python",
   "name": "python3"
  },
  "language_info": {
   "codemirror_mode": {
    "name": "ipython",
    "version": 3
   },
   "file_extension": ".py",
   "mimetype": "text/x-python",
   "name": "python",
   "nbconvert_exporter": "python",
   "pygments_lexer": "ipython3",
   "version": "3.7.4"
  }
 },
 "nbformat": 4,
 "nbformat_minor": 2
}
